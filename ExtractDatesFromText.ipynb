{
 "cells": [
  {
   "cell_type": "code",
   "execution_count": null,
   "metadata": {},
   "outputs": [],
   "source": [
    "# identify and extract dates from text Python?\n",
    "#- Duckling\n",
    "#- dateparser\n",
    "#- parsedatetime \n",
    "#- datefinder"
   ]
  },
  {
   "cell_type": "code",
   "execution_count": 1,
   "metadata": {},
   "outputs": [],
   "source": [
    "import duckling\n",
    "from datetime import time, date, timedelta, datetime\n",
    "from dateutil import parser\n",
    "from dateutil.tz import tzlocal\n",
    "from duckling import DucklingWrapper, Dim\n",
    "from dateparser.search import search_dates\n",
    "from date_parser.parser import DateParser\n",
    "import datefinder\n",
    "import parsedatetime.parsedatetime as pdt"
   ]
  },
  {
   "cell_type": "code",
   "execution_count": 2,
   "metadata": {},
   "outputs": [
    {
     "name": "stdout",
     "output_type": "stream",
     "text": [
      "['2019-06-18T20:45:00.000+05:30']\n",
      "['2019-06-16T10:00:00.000+05:30']\n",
      "['2019-06-19T18:16:00.000+05:30']\n"
     ]
    }
   ],
   "source": [
    "# identify and extract dates from text Python?\n",
    "# Duckling\n",
    "\n",
    "def ducklingfun1(*argv):  \n",
    "    for arg in argv:\n",
    "        f = DucklingWrapper()\n",
    "        res1 = f.parse_time(arg)\n",
    "        res2 = [d['value'] for d in res1]\n",
    "        duckling_result = [d['value'] for d in res2]\n",
    "        print(duckling_result)\n",
    "    \n",
    "ducklingfun1('Let\\'s meet at tomorrow 8:45pm', \n",
    "            'What did we learn yesterday at 10am', \n",
    "            'Can we meet day after tomorrow at 6:16pm')"
   ]
  },
  {
   "cell_type": "code",
   "execution_count": 3,
   "metadata": {},
   "outputs": [
    {
     "name": "stdout",
     "output_type": "stream",
     "text": [
      "['2019-06-18T17:00:00.000+05:30', '2019-06-18T05:00:00.000+05:30', '2019-06-17T19:00:00.000+05:30', '2019-06-17T17:00:00.000+05:30', '2019-01-03T06:00:00.000+05:30']\n",
      "[{'to': '2019-06-19T00:00:00.000+05:30', 'from': '2019-03-15T00:00:00.000+05:30'}]\n",
      "[{'to': '2016-02-29T00:00:00.000+05:30', 'from': None}]\n",
      "['2018-08-05T00:00:00.000+05:30', '2018-08-11T19:25:00.000+05:30', {'to': '2019-08-11T00:00:00.000+05:30', 'from': '2019-06-17T18:43:56.000+05:30'}]\n"
     ]
    }
   ],
   "source": [
    "def ducklingfun2(*argv):  \n",
    "    for arg in argv:\n",
    "        f = DucklingWrapper()\n",
    "        res1 = f.parse_time(arg)\n",
    "        res2 = [d['value'] for d in res1]\n",
    "        duckling_result = [d['value'] for d in res2]\n",
    "        print(duckling_result)\n",
    "    \n",
    "ducklingfun2('Competition opens 1/03/19 at 6:00 AM and closes 17/05/19 at 5:00 PM',\n",
    "             'Valid for ticketing and travelling Starting from Mar 15 2019 to June 18 2019',\n",
    "             'Effective Period Ticket must be issued on before 29 FEB 2016',\n",
    "             'All entries are due by Aug 11 2018 at 7:25pm created 08/05/2018',)"
   ]
  },
  {
   "cell_type": "code",
   "execution_count": 43,
   "metadata": {},
   "outputs": [
    {
     "name": "stdout",
     "output_type": "stream",
     "text": [
      "2014-05-19 00:00:00\n",
      "2010-01-14 00:00:00\n",
      "2019-03-15 00:00:00\n",
      "2016-02-29 00:00:00\n",
      "2018-08-11 00:00:00\n"
     ]
    }
   ],
   "source": [
    "# identify and extract dates from text Python?\n",
    "# date_parser\n",
    "\n",
    "def date_parserfun(*argv):  \n",
    "    for arg in argv:\n",
    "        dp = DateParser()\n",
    "        res3 = dp.parse_date(arg)\n",
    "        print(res3)\n",
    "        \n",
    "date_parserfun('On 2014, I believe it was May 19th, Chelsea won the Champions League.',\n",
    "               'Remember what happened on Jan 14th 2010',\n",
    "               'Valid for ticketing and travelling Starting from March 15th 2019',\n",
    "               'Effective Period Ticket must be issued on before 29 FEB 2016',\n",
    "               'All entries are due by Aug 11 2018 at 7:25pm') "
   ]
  },
  {
   "cell_type": "code",
   "execution_count": 5,
   "metadata": {},
   "outputs": [
    {
     "name": "stdout",
     "output_type": "stream",
     "text": [
      "1/03/19 at 6:00 AM \n",
      "17/05/19 at 5:00 PM\n",
      "Mar 15 2019\n",
      "June 18 2019\n",
      "29 FEB 2016\n",
      "Aug 11 2018 at 7:25pm\n",
      "08/05/2018\n"
     ]
    }
   ],
   "source": [
    "# identify and extract dates from text Python?\n",
    "# dateparser\n",
    "\n",
    "def dateparserfun(*argv):  \n",
    "    for arg in argv:\n",
    "        res4 = search_dates(arg, settings={'STRICT_PARSING': True, 'DATE_ORDER': 'DMY'})\n",
    "        for x in res4:\n",
    "            date_string =  x[0].strip('and')\n",
    "            print(date_string)\n",
    "            \n",
    "dateparserfun('Competition opens 1/03/19 at 6:00 AM and closes 17/05/19 at 5:00 PM',\n",
    "             'Valid for ticketing and travelling Starting from Mar 15 2019 to June 18 2019',\n",
    "             'Effective Period Ticket must be issued on before 29 FEB 2016',\n",
    "             'All entries are due by Aug 11 2018 at 7:25pm created 08/05/2018',\n",
    "             )"
   ]
  },
  {
   "cell_type": "code",
   "execution_count": 6,
   "metadata": {},
   "outputs": [
    {
     "name": "stdout",
     "output_type": "stream",
     "text": [
      "1/03/19 at 6:00 AM\n",
      "17/05/19 at 5:00 PM\n",
      "from Mar 15 2019\n",
      " June 18 2019\n",
      "before 29 FEB 2016\n",
      " Aug 11 2018 at 7:25pm\n",
      "08/05/2018\n"
     ]
    }
   ],
   "source": [
    "# identify and extract dates from text Python?\n",
    "# parsedatetime\n",
    "\n",
    "import parsedatetime as pdt\n",
    "\n",
    "def parsedatetimefun(*argv):  \n",
    "    for arg in argv:\n",
    "        cal = pdt.Calendar()\n",
    "        res5 = cal.nlp(arg)\n",
    "        for x in res5:\n",
    "            date_string =  x[4].strip('and')\n",
    "            print(date_string)\n",
    "\n",
    "parsedatetimefun('Competition opens 1/03/19 at 6:00 AM and closes 17/05/19 at 5:00 PM',\n",
    "                 'Valid for ticketing and travelling Starting from Mar 15 2019 to June 18 2019',\n",
    "                 'Effective Period Ticket must be issued on before 29 FEB 2016',\n",
    "                 'All entries are due by Aug 11 2018 at 7:25pm created 08/05/2018',\n",
    "                )"
   ]
  },
  {
   "cell_type": "code",
   "execution_count": 7,
   "metadata": {},
   "outputs": [
    {
     "name": "stdout",
     "output_type": "stream",
     "text": [
      "2019-01-03 06:00:00\n",
      "2019-05-17 17:00:00\n",
      "2019-03-15 00:00:00\n",
      "2019-06-18 00:00:00\n",
      "2016-02-29 00:00:00\n",
      "2018-08-11 19:25:00\n",
      "2018-08-05 00:00:00\n"
     ]
    }
   ],
   "source": [
    "# identify and extract dates from text Python?\n",
    "# datefinder\n",
    "\n",
    "def datefinderfun(*argv):  \n",
    "    for arg in argv:\n",
    "        res5 = datefinder.find_dates(arg)\n",
    "        for match in res5:\n",
    "            print (match)\n",
    "            \n",
    "datefinderfun('Competition opens 1/03/19 at 6:00 AM and closes 17/05/19 at 5:00 PM',\n",
    "             'Valid for ticketing and travelling Starting from Mar 15 2019 to June 18 2019',\n",
    "             'Effective Period Ticket must be issued on before 29 FEB 2016',\n",
    "             'All entries are due by Aug 11 2018 at 7:25pm created 08/05/2018')"
   ]
  },
  {
   "cell_type": "code",
   "execution_count": 15,
   "metadata": {},
   "outputs": [
    {
     "name": "stdout",
     "output_type": "stream",
     "text": [
      "2019-06-17 17:00:00\n",
      "2020-06-18 18:50:44\n",
      "2016-02-29 18:50:44\n",
      "2018-08-05 19:25:00\n"
     ]
    }
   ],
   "source": [
    "# identify and extract dates from text Python?\n",
    "# parsedatetime\n",
    "\n",
    "import parsedatetime as pdt\n",
    "\n",
    "def parsedatetimefun(*argv):\n",
    "    for arg in argv:\n",
    "        cal = pdt.Calendar()\n",
    "        result = cal.parseDT(arg)[0]\n",
    "        print(result)\n",
    "\n",
    "parsedatetimefun('Competition opens 1/03/19 at 6:00 AM and closes 17/05/19 at 5:00 PM',\n",
    "                 'Valid for ticketing and travelling Starting from Mar 15 2019 to June 18 2019',\n",
    "                 'Effective Period Ticket must be issued on before 29 FEB 2016',\n",
    "                 'All entries are due by Aug 11 2018 at 7:25pm created 08/05/2018')"
   ]
  },
  {
   "cell_type": "code",
   "execution_count": 20,
   "metadata": {},
   "outputs": [
    {
     "name": "stdout",
     "output_type": "stream",
     "text": [
      "2019-01-14 00:00:00\n"
     ]
    }
   ],
   "source": [
    "from dateutil.parser import parse\n",
    "res7 = parse(\"Today is 14-01-19\", fuzzy_with_tokens=True)[0]\n",
    "print(res7)"
   ]
  },
  {
   "cell_type": "code",
   "execution_count": 26,
   "metadata": {},
   "outputs": [
    {
     "name": "stdout",
     "output_type": "stream",
     "text": [
      "2018-12-15 00:00:00\n"
     ]
    }
   ],
   "source": [
    "from dateparser.search import search_dates\n",
    "\n",
    "res8 = search_dates(\"find 12/15/18 in this string\")[0][1]\n",
    "print(res8)"
   ]
  },
  {
   "cell_type": "code",
   "execution_count": 27,
   "metadata": {},
   "outputs": [
    {
     "data": {
      "text/plain": [
       "['03/25/93']"
      ]
     },
     "execution_count": 27,
     "metadata": {},
     "output_type": "execute_result"
    }
   ],
   "source": [
    "# identify and extract dates from text Python?\n",
    "# Regex\n",
    "\n",
    "import re\n",
    "re.findall(\"\\d+/\\d+/\\d+\", \"03/25/93 Total time of visit (in minutes):\\n\")"
   ]
  },
  {
   "cell_type": "code",
   "execution_count": 29,
   "metadata": {},
   "outputs": [
    {
     "name": "stdout",
     "output_type": "stream",
     "text": [
      "1937-01-04 00:00:00+00:00\n"
     ]
    }
   ],
   "source": [
    "from date_extractor import extract_dates\n",
    "\n",
    "text = \"I arrived in that city on January 4, 1937\"\n",
    "dates = extract_dates(text)[0]\n",
    "print(dates)"
   ]
  },
  {
   "cell_type": "code",
   "execution_count": 33,
   "metadata": {},
   "outputs": [
    {
     "data": {
      "text/plain": [
       "datetime.datetime(1937, 1, 1, 0, 0, tzinfo=<UTC>)"
      ]
     },
     "execution_count": 33,
     "metadata": {},
     "output_type": "execute_result"
    }
   ],
   "source": [
    "from date_extractor import extract_date\n",
    "\n",
    "text = \"I arrived in that city in 1937\"\n",
    "date, precision = extract_date(text, return_precision=True)\n",
    "date"
   ]
  },
  {
   "cell_type": "code",
   "execution_count": null,
   "metadata": {},
   "outputs": [],
   "source": []
  }
 ],
 "metadata": {
  "kernelspec": {
   "display_name": "Python 3",
   "language": "python",
   "name": "python3"
  },
  "language_info": {
   "codemirror_mode": {
    "name": "ipython",
    "version": 3
   },
   "file_extension": ".py",
   "mimetype": "text/x-python",
   "name": "python",
   "nbconvert_exporter": "python",
   "pygments_lexer": "ipython3",
   "version": "3.7.3"
  }
 },
 "nbformat": 4,
 "nbformat_minor": 2
}
